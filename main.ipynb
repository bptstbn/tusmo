{
 "cells": [
  {
   "cell_type": "code",
   "execution_count": 1,
   "id": "1aa2b49f",
   "metadata": {},
   "outputs": [],
   "source": [
    "import pandas as pd"
   ]
  },
  {
   "cell_type": "code",
   "execution_count": 2,
   "id": "984a0653",
   "metadata": {},
   "outputs": [],
   "source": [
    "def get_words():\n",
    "    df = pd.read_csv('data/scrabble.csv', header=None, encoding='ISO-8859-1')\n",
    "    words = df.iloc[:, 0].dropna().astype(str).tolist()\n",
    "    return words"
   ]
  },
  {
   "cell_type": "code",
   "execution_count": 3,
   "id": "847da1e9",
   "metadata": {},
   "outputs": [],
   "source": [
    "def string_to_squares(colors):\n",
    "    colors = colors.upper()\n",
    "    return {key: value for key, value in enumerate(colors)}"
   ]
  },
  {
   "cell_type": "code",
   "execution_count": 4,
   "id": "befeb6ac",
   "metadata": {},
   "outputs": [],
   "source": [
    "def create_info(submission, colors):\n",
    "    info = {\n",
    "        \"submission\": submission.upper(),\n",
    "        \"squares\": string_to_squares(colors)\n",
    "    }\n",
    "    return info"
   ]
  },
  {
   "cell_type": "code",
   "execution_count": 5,
   "id": "81a12373",
   "metadata": {},
   "outputs": [],
   "source": [
    "def censor(word, indexes):\n",
    "    censored_word = list(word)\n",
    "    for index in indexes:\n",
    "        censored_word[index] = \"*\"\n",
    "    return \"\".join(censored_word)"
   ]
  },
  {
   "cell_type": "code",
   "execution_count": 6,
   "id": "ff2ca71f",
   "metadata": {},
   "outputs": [],
   "source": [
    "def is_valid(word, info):\n",
    "    if len(word) != len(info['submission']):\n",
    "        return False\n",
    "    \n",
    "    squares = info['squares']\n",
    "    submission = info['submission']\n",
    "    \n",
    "    for index, color in squares.items():\n",
    "        letter = submission[index]\n",
    "        \n",
    "        if color == 'R' and letter != word[index]:\n",
    "            return False\n",
    "        \n",
    "        if color == 'Y':\n",
    "            if letter == word[index]:\n",
    "                return False\n",
    "            \n",
    "            red_indexes = [k for k, v in squares.items() if v == 'R']\n",
    "            if letter not in censor(word, red_indexes):\n",
    "                return False\n",
    "        \n",
    "        if color == 'B':\n",
    "            red_yellow_indexes = [k for k, v in squares.items() if v in ['R', 'Y']]\n",
    "            red_yellow_letters = ''.join([submission[i] for i in red_yellow_indexes])\n",
    "            \n",
    "            if word.count(letter) > red_yellow_letters.count(letter):\n",
    "                return False\n",
    "    \n",
    "    return True"
   ]
  },
  {
   "cell_type": "code",
   "execution_count": 7,
   "id": "984f3d42",
   "metadata": {},
   "outputs": [],
   "source": [
    "def solve(sample):\n",
    "    pool = get_words()\n",
    "    for word, colors in sample:\n",
    "        info = create_info(word, colors)\n",
    "        pool = [x for x in pool if is_valid(x, info)]\n",
    "    return pool"
   ]
  },
  {
   "cell_type": "code",
   "execution_count": 8,
   "id": "05f4cb45",
   "metadata": {},
   "outputs": [
    {
     "data": {
      "text/plain": [
       "['RAMEUR', 'RAPEUR', 'RASEUR', 'RAVEUR']"
      ]
     },
     "execution_count": 8,
     "metadata": {},
     "output_type": "execute_result"
    }
   ],
   "source": [
    "sample = [('R-----', 'R'),\n",
    "          ('REGION', 'RYBBBB'),\n",
    "          ('RAFLER', 'RRBBYR')]\n",
    "\n",
    "res = solve(sample)\n",
    "res"
   ]
  },
  {
   "cell_type": "code",
   "execution_count": 9,
   "id": "3b83087a",
   "metadata": {},
   "outputs": [
    {
     "data": {
      "text/plain": [
       "['BERCER']"
      ]
     },
     "execution_count": 9,
     "metadata": {},
     "output_type": "execute_result"
    }
   ],
   "source": [
    "sample = [('B-----', 'R'),\n",
    "          ('BALLON', 'RBBBBB'),\n",
    "          ('BRUITS', 'RYBBBB'),\n",
    "          ('BERGER', 'RRRBRR')]\n",
    "\n",
    "res = solve(sample)\n",
    "res"
   ]
  }
 ],
 "metadata": {
  "kernelspec": {
   "display_name": "Python 3 (ipykernel)",
   "language": "python",
   "name": "python3"
  },
  "language_info": {
   "codemirror_mode": {
    "name": "ipython",
    "version": 3
   },
   "file_extension": ".py",
   "mimetype": "text/x-python",
   "name": "python",
   "nbconvert_exporter": "python",
   "pygments_lexer": "ipython3",
   "version": "3.9.12"
  }
 },
 "nbformat": 4,
 "nbformat_minor": 5
}
